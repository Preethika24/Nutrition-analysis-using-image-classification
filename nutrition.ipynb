{
 "cells": [
  {
   "cell_type": "code",
   "execution_count": 1,
   "metadata": {},
   "outputs": [
    {
     "name": "stderr",
     "output_type": "stream",
     "text": [
      "Using TensorFlow backend.\n"
     ]
    }
   ],
   "source": [
    "from keras.models import Sequential\n",
    "from keras.layers import Dense\n",
    "from keras.layers import Conv2D\n",
    "from keras.layers import MaxPooling2D\n",
    "from keras.layers import Flatten"
   ]
  },
  {
   "cell_type": "code",
   "execution_count": 2,
   "metadata": {},
   "outputs": [
    {
     "name": "stdout",
     "output_type": "stream",
     "text": [
      "WARNING:tensorflow:From C:\\Users\\Admin\\Anaconda3\\ANACONDA\\lib\\site-packages\\keras\\backend\\tensorflow_backend.py:74: The name tf.get_default_graph is deprecated. Please use tf.compat.v1.get_default_graph instead.\n",
      "\n"
     ]
    }
   ],
   "source": [
    "cnn_model=Sequential()"
   ]
  },
  {
   "cell_type": "code",
   "execution_count": 3,
   "metadata": {},
   "outputs": [
    {
     "name": "stdout",
     "output_type": "stream",
     "text": [
      "WARNING:tensorflow:From C:\\Users\\Admin\\Anaconda3\\ANACONDA\\lib\\site-packages\\keras\\backend\\tensorflow_backend.py:517: The name tf.placeholder is deprecated. Please use tf.compat.v1.placeholder instead.\n",
      "\n",
      "WARNING:tensorflow:From C:\\Users\\Admin\\Anaconda3\\ANACONDA\\lib\\site-packages\\keras\\backend\\tensorflow_backend.py:4138: The name tf.random_uniform is deprecated. Please use tf.random.uniform instead.\n",
      "\n"
     ]
    },
    {
     "name": "stderr",
     "output_type": "stream",
     "text": [
      "C:\\Users\\Admin\\Anaconda3\\ANACONDA\\lib\\site-packages\\ipykernel_launcher.py:1: UserWarning: Update your `Conv2D` call to the Keras 2 API: `Conv2D(32, (3, 3), input_shape=(64, 64, 3..., activation=\"relu\")`\n",
      "  \"\"\"Entry point for launching an IPython kernel.\n"
     ]
    }
   ],
   "source": [
    "cnn_model.add(Conv2D(32,3,3,input_shape=(64,64,3),activation=\"relu\"))"
   ]
  },
  {
   "cell_type": "code",
   "execution_count": 4,
   "metadata": {},
   "outputs": [
    {
     "name": "stdout",
     "output_type": "stream",
     "text": [
      "WARNING:tensorflow:From C:\\Users\\Admin\\Anaconda3\\ANACONDA\\lib\\site-packages\\keras\\backend\\tensorflow_backend.py:3976: The name tf.nn.max_pool is deprecated. Please use tf.nn.max_pool2d instead.\n",
      "\n"
     ]
    },
    {
     "name": "stderr",
     "output_type": "stream",
     "text": [
      "C:\\Users\\Admin\\Anaconda3\\ANACONDA\\lib\\site-packages\\ipykernel_launcher.py:2: UserWarning: Update your `Conv2D` call to the Keras 2 API: `Conv2D(64, (3, 3), activation=\"relu\")`\n",
      "  \n"
     ]
    }
   ],
   "source": [
    "cnn_model.add(MaxPooling2D(pool_size=(2,2)))\n",
    "cnn_model.add(Conv2D(64,3,3,activation=\"relu\"))\n",
    "cnn_model.add(MaxPooling2D(pool_size=(2,2)))"
   ]
  },
  {
   "cell_type": "code",
   "execution_count": 5,
   "metadata": {},
   "outputs": [],
   "source": [
    "cnn_model.add(Flatten())"
   ]
  },
  {
   "cell_type": "code",
   "execution_count": 6,
   "metadata": {},
   "outputs": [
    {
     "name": "stderr",
     "output_type": "stream",
     "text": [
      "C:\\Users\\Admin\\Anaconda3\\ANACONDA\\lib\\site-packages\\ipykernel_launcher.py:1: UserWarning: Update your `Dense` call to the Keras 2 API: `Dense(activation=\"relu\", units=250, kernel_initializer=\"random_uniform\")`\n",
      "  \"\"\"Entry point for launching an IPython kernel.\n"
     ]
    }
   ],
   "source": [
    "cnn_model.add(Dense(init=\"random_uniform\",activation=\"relu\",output_dim=250))"
   ]
  },
  {
   "cell_type": "code",
   "execution_count": 7,
   "metadata": {},
   "outputs": [
    {
     "name": "stderr",
     "output_type": "stream",
     "text": [
      "C:\\Users\\Admin\\Anaconda3\\ANACONDA\\lib\\site-packages\\ipykernel_launcher.py:1: UserWarning: Update your `Dense` call to the Keras 2 API: `Dense(activation=\"softmax\", units=4, kernel_initializer=\"random_uniform\")`\n",
      "  \"\"\"Entry point for launching an IPython kernel.\n"
     ]
    }
   ],
   "source": [
    "cnn_model.add(Dense(init=\"random_uniform\",activation=\"softmax\",output_dim=4))"
   ]
  },
  {
   "cell_type": "code",
   "execution_count": 8,
   "metadata": {},
   "outputs": [
    {
     "name": "stdout",
     "output_type": "stream",
     "text": [
      "WARNING:tensorflow:From C:\\Users\\Admin\\Anaconda3\\ANACONDA\\lib\\site-packages\\keras\\optimizers.py:790: The name tf.train.Optimizer is deprecated. Please use tf.compat.v1.train.Optimizer instead.\n",
      "\n",
      "WARNING:tensorflow:From C:\\Users\\Admin\\Anaconda3\\ANACONDA\\lib\\site-packages\\keras\\backend\\tensorflow_backend.py:3295: The name tf.log is deprecated. Please use tf.math.log instead.\n",
      "\n"
     ]
    }
   ],
   "source": [
    "cnn_model.compile(optimizer=\"adam\",loss=\"categorical_crossentropy\",metrics=['accuracy'])"
   ]
  },
  {
   "cell_type": "code",
   "execution_count": 9,
   "metadata": {},
   "outputs": [],
   "source": [
    "from keras.preprocessing.image import ImageDataGenerator\n",
    "train_datagen = ImageDataGenerator(\n",
    "        rescale=1./255,\n",
    "        shear_range=0.2,\n",
    "        zoom_range=0.2,\n",
    "        horizontal_flip=True)"
   ]
  },
  {
   "cell_type": "code",
   "execution_count": 10,
   "metadata": {},
   "outputs": [],
   "source": [
    "test_datagen = ImageDataGenerator(rescale=1./255)"
   ]
  },
  {
   "cell_type": "code",
   "execution_count": 11,
   "metadata": {},
   "outputs": [
    {
     "name": "stdout",
     "output_type": "stream",
     "text": [
      "Found 600 images belonging to 4 classes.\n"
     ]
    }
   ],
   "source": [
    "x_train = train_datagen.flow_from_directory(\n",
    "        r'C:\\Users\\Admin\\Downloads\\Fruits\\training_sets',\n",
    "        target_size=(64,64),\n",
    "        batch_size=32,\n",
    "        class_mode='categorical')"
   ]
  },
  {
   "cell_type": "code",
   "execution_count": 12,
   "metadata": {},
   "outputs": [
    {
     "name": "stdout",
     "output_type": "stream",
     "text": [
      "Found 200 images belonging to 4 classes.\n"
     ]
    }
   ],
   "source": [
    "x_test = test_datagen.flow_from_directory(\n",
    "        r'C:\\Users\\Admin\\Downloads\\Fruits\\test_sets',\n",
    "        target_size=(64,64),\n",
    "        batch_size=32,\n",
    "        class_mode='categorical')"
   ]
  },
  {
   "cell_type": "code",
   "execution_count": 13,
   "metadata": {},
   "outputs": [
    {
     "data": {
      "text/plain": [
       "{'apple fruit': 0, 'banana': 1, 'kiwi fruit': 2, 'strawberry fruit': 3}"
      ]
     },
     "execution_count": 13,
     "metadata": {},
     "output_type": "execute_result"
    }
   ],
   "source": [
    "x_train.class_indices"
   ]
  },
  {
   "cell_type": "code",
   "execution_count": 14,
   "metadata": {},
   "outputs": [
    {
     "name": "stdout",
     "output_type": "stream",
     "text": [
      "WARNING:tensorflow:From C:\\Users\\Admin\\Anaconda3\\ANACONDA\\lib\\site-packages\\tensorflow\\python\\ops\\math_grad.py:1250: add_dispatch_support.<locals>.wrapper (from tensorflow.python.ops.array_ops) is deprecated and will be removed in a future version.\n",
      "Instructions for updating:\n",
      "Use tf.where in 2.0, which has the same broadcast rule as np.where\n",
      "WARNING:tensorflow:From C:\\Users\\Admin\\Anaconda3\\ANACONDA\\lib\\site-packages\\keras\\backend\\tensorflow_backend.py:986: The name tf.assign_add is deprecated. Please use tf.compat.v1.assign_add instead.\n",
      "\n",
      "Epoch 1/20\n",
      "20/20 [==============================] - 17s 863ms/step - loss: 1.1661 - acc: 0.4540 - val_loss: 0.9207 - val_acc: 0.6198\n",
      "Epoch 2/20\n",
      "20/20 [==============================] - 4s 217ms/step - loss: 0.7790 - acc: 0.6327 - val_loss: 0.7041 - val_acc: 0.7143\n",
      "Epoch 3/20\n",
      "20/20 [==============================] - 6s 297ms/step - loss: 0.7369 - acc: 0.6797 - val_loss: 0.8374 - val_acc: 0.5952\n",
      "Epoch 4/20\n",
      "20/20 [==============================] - 4s 214ms/step - loss: 0.7128 - acc: 0.6839 - val_loss: 0.6720 - val_acc: 0.7024\n",
      "Epoch 5/20\n",
      "20/20 [==============================] - 5s 227ms/step - loss: 0.6060 - acc: 0.7531 - val_loss: 0.5533 - val_acc: 0.7857\n",
      "Epoch 6/20\n",
      "20/20 [==============================] - 4s 216ms/step - loss: 0.6040 - acc: 0.7531 - val_loss: 0.4972 - val_acc: 0.7798\n",
      "Epoch 7/20\n",
      "20/20 [==============================] - 4s 216ms/step - loss: 0.5285 - acc: 0.7865 - val_loss: 0.5610 - val_acc: 0.7679\n",
      "Epoch 8/20\n",
      "20/20 [==============================] - 5s 243ms/step - loss: 0.5117 - acc: 0.8068 - val_loss: 0.4300 - val_acc: 0.8385\n",
      "Epoch 9/20\n",
      "20/20 [==============================] - 6s 300ms/step - loss: 0.4698 - acc: 0.8042 - val_loss: 0.3297 - val_acc: 0.8810\n",
      "Epoch 10/20\n",
      "20/20 [==============================] - 5s 250ms/step - loss: 0.4421 - acc: 0.8167 - val_loss: 0.4475 - val_acc: 0.8155\n",
      "Epoch 11/20\n",
      "20/20 [==============================] - 5s 258ms/step - loss: 0.3557 - acc: 0.8646 - val_loss: 0.4049 - val_acc: 0.8452\n",
      "Epoch 12/20\n",
      "20/20 [==============================] - 5s 228ms/step - loss: 0.3954 - acc: 0.8297 - val_loss: 0.3162 - val_acc: 0.8869\n",
      "Epoch 13/20\n",
      "20/20 [==============================] - 13s 655ms/step - loss: 0.3272 - acc: 0.8614 - val_loss: 0.2142 - val_acc: 0.9226\n",
      "Epoch 14/20\n",
      "20/20 [==============================] - 10s 478ms/step - loss: 0.2439 - acc: 0.8994 - val_loss: 0.1905 - val_acc: 0.9345\n",
      "Epoch 15/20\n",
      "20/20 [==============================] - 4s 219ms/step - loss: 0.3135 - acc: 0.8833 - val_loss: 0.3195 - val_acc: 0.8802\n",
      "Epoch 16/20\n",
      "20/20 [==============================] - 4s 198ms/step - loss: 0.2220 - acc: 0.9365 - val_loss: 0.4440 - val_acc: 0.8393\n",
      "Epoch 17/20\n",
      "20/20 [==============================] - 4s 218ms/step - loss: 0.2593 - acc: 0.8916 - val_loss: 0.1507 - val_acc: 0.9524\n",
      "Epoch 18/20\n",
      "20/20 [==============================] - 5s 259ms/step - loss: 0.1834 - acc: 0.9437 - val_loss: 0.1209 - val_acc: 0.9583\n",
      "Epoch 19/20\n",
      "20/20 [==============================] - 5s 266ms/step - loss: 0.1736 - acc: 0.9391 - val_loss: 0.0952 - val_acc: 0.9762\n",
      "Epoch 20/20\n",
      "20/20 [==============================] - 5s 230ms/step - loss: 0.1487 - acc: 0.9521 - val_loss: 0.2244 - val_acc: 0.8988\n"
     ]
    },
    {
     "data": {
      "text/plain": [
       "<keras.callbacks.History at 0x1fc69e38780>"
      ]
     },
     "execution_count": 14,
     "metadata": {},
     "output_type": "execute_result"
    }
   ],
   "source": [
    "cnn_model.fit_generator(\n",
    "        x_train,\n",
    "        steps_per_epoch=20,\n",
    "        epochs=20,\n",
    "        validation_data=x_test,\n",
    "        validation_steps=6)"
   ]
  },
  {
   "cell_type": "code",
   "execution_count": 15,
   "metadata": {},
   "outputs": [],
   "source": [
    "cnn_model.save(\"project.h5\")"
   ]
  },
  {
   "cell_type": "code",
   "execution_count": null,
   "metadata": {},
   "outputs": [],
   "source": []
  },
  {
   "cell_type": "code",
   "execution_count": null,
   "metadata": {},
   "outputs": [],
   "source": []
  },
  {
   "cell_type": "code",
   "execution_count": null,
   "metadata": {},
   "outputs": [],
   "source": []
  }
 ],
 "metadata": {
  "kernelspec": {
   "display_name": "Python 3",
   "language": "python",
   "name": "python3"
  },
  "language_info": {
   "codemirror_mode": {
    "name": "ipython",
    "version": 3
   },
   "file_extension": ".py",
   "mimetype": "text/x-python",
   "name": "python",
   "nbconvert_exporter": "python",
   "pygments_lexer": "ipython3",
   "version": "3.7.3"
  }
 },
 "nbformat": 4,
 "nbformat_minor": 2
}
