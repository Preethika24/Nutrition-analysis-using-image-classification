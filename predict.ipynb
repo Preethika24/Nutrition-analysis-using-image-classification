{
 "cells": [
  {
   "cell_type": "code",
   "execution_count": 1,
   "metadata": {},
   "outputs": [
    {
     "name": "stderr",
     "output_type": "stream",
     "text": [
      "Using TensorFlow backend.\n"
     ]
    },
    {
     "name": "stdout",
     "output_type": "stream",
     "text": [
      "WARNING:tensorflow:From C:\\Users\\Admin\\Anaconda3\\ANACONDA\\lib\\site-packages\\keras\\backend\\tensorflow_backend.py:517: The name tf.placeholder is deprecated. Please use tf.compat.v1.placeholder instead.\n",
      "\n",
      "WARNING:tensorflow:From C:\\Users\\Admin\\Anaconda3\\ANACONDA\\lib\\site-packages\\keras\\backend\\tensorflow_backend.py:4138: The name tf.random_uniform is deprecated. Please use tf.random.uniform instead.\n",
      "\n",
      "WARNING:tensorflow:From C:\\Users\\Admin\\Anaconda3\\ANACONDA\\lib\\site-packages\\keras\\backend\\tensorflow_backend.py:3976: The name tf.nn.max_pool is deprecated. Please use tf.nn.max_pool2d instead.\n",
      "\n",
      "WARNING:tensorflow:From C:\\Users\\Admin\\Anaconda3\\ANACONDA\\lib\\site-packages\\keras\\backend\\tensorflow_backend.py:174: The name tf.get_default_session is deprecated. Please use tf.compat.v1.get_default_session instead.\n",
      "\n",
      "WARNING:tensorflow:From C:\\Users\\Admin\\Anaconda3\\ANACONDA\\lib\\site-packages\\keras\\backend\\tensorflow_backend.py:181: The name tf.ConfigProto is deprecated. Please use tf.compat.v1.ConfigProto instead.\n",
      "\n",
      "WARNING:tensorflow:From C:\\Users\\Admin\\Anaconda3\\ANACONDA\\lib\\site-packages\\keras\\backend\\tensorflow_backend.py:186: The name tf.Session is deprecated. Please use tf.compat.v1.Session instead.\n",
      "\n",
      "WARNING:tensorflow:From C:\\Users\\Admin\\Anaconda3\\ANACONDA\\lib\\site-packages\\keras\\optimizers.py:790: The name tf.train.Optimizer is deprecated. Please use tf.compat.v1.train.Optimizer instead.\n",
      "\n",
      "WARNING:tensorflow:From C:\\Users\\Admin\\Anaconda3\\ANACONDA\\lib\\site-packages\\tensorflow\\python\\ops\\math_grad.py:1250: add_dispatch_support.<locals>.wrapper (from tensorflow.python.ops.array_ops) is deprecated and will be removed in a future version.\n",
      "Instructions for updating:\n",
      "Use tf.where in 2.0, which has the same broadcast rule as np.where\n",
      "[3]\n"
     ]
    }
   ],
   "source": [
    "import numpy as np\n",
    "from keras.preprocessing import image\n",
    "\n",
    "from tkinter import *\n",
    "from PIL import ImageTk, Image\n",
    "from tkinter import filedialog\n",
    "import os\n",
    "from keras.models import load_model\n",
    "classifier = load_model('project.h5')\n",
    "classifier.compile(optimizer = 'adam', loss = 'categorical_crossentropy', metrics = ['accuracy'])\n",
    "root = Tk()\n",
    "root.geometry(\"550x300+300+150\")\n",
    "root.resizable(width=True, height=True)\n",
    "\n",
    "def openfn():\n",
    "    filename = filedialog.askopenfilename(title='open')\n",
    "    return filename\n",
    "def open_img():\n",
    "    x = openfn()\n",
    "    test_image = image.load_img(x, target_size = (64, 64))\n",
    "    test_image = image.img_to_array(test_image)\n",
    "    test_image = np.expand_dims(test_image, axis = 0)\n",
    "    result = classifier.predict_classes(test_image)\n",
    "    print(result)\n",
    "    index=['Apple fruit','banana','Kiwi fruit','Strawberry']\n",
    "    label = Label( root, text=\"Prediction : \"+index[result[0]])\n",
    "    label.pack()\n",
    "    img = Image.open(x)\n",
    "    img = img.resize((250,250), Image.ANTIALIAS)\n",
    "    img = ImageTk.PhotoImage(img)\n",
    "    panel = Label(root, image=img)\n",
    "    panel.image = img\n",
    "    panel.pack()\n",
    "    if( result == [0]):\n",
    "        label = Label( root, text=\"APPLE \\n Nutrition Facts \\n Calories: 52 \\n Water: 86% \\n Protein: 0.3 grams \\n Carbs: 13.8 gram \\n Sugar: 10.4 grams \\n Fiber: 2.4 grams \\n Fat: 0.2 grams   \")\n",
    "        label.pack()\n",
    "    elif( result == [1]):\n",
    "        label = Label( root, text=\"BANANA \\n Nutrition Facts \\n Calories: 89 \\n Water: 75% \\n Protein: 1.1 grams \\n Carbs: 22.8 gram \\n Sugar: 12.1 grams \\n Fiber: 2.6 grams \\n Fat: 0.3 grams  \")\n",
    "        label.pack()\n",
    "    elif( result == [2]):\n",
    "        label = Label( root, text=\"KIWI \\n Nutrition Facts \\n Calories: 42 \\n Water: 83% \\n Protein: 0.8 grams \\n Carbs: 3 gram \\n Sugar: 6 grams \\n Fiber: 2.1 grams \\n Fat: 0.4 grams   \")\n",
    "        label.pack()\n",
    "    else:\n",
    "        label = Label( root, text=\"STRAWBERRY \\n Nutrition Facts \\n Calories: 32 \\n Water: 91% \\n Protein: 0.7 grams \\n Carbs: 7.7 gram \\n Sugar: 4.9 grams \\n Fiber: 2 grams \\n Fat: 0.3 grams   \")\n",
    "        label.pack()\n",
    "    \n",
    "        \n",
    "        \n",
    "        \n",
    "        \n",
    "    \n",
    "btn = Button(root, text='open image', command=open_img).pack()\n",
    "\n",
    "root.mainloop()"
   ]
  },
  {
   "cell_type": "code",
   "execution_count": null,
   "metadata": {},
   "outputs": [],
   "source": []
  },
  {
   "cell_type": "code",
   "execution_count": null,
   "metadata": {},
   "outputs": [],
   "source": []
  },
  {
   "cell_type": "code",
   "execution_count": null,
   "metadata": {},
   "outputs": [],
   "source": []
  }
 ],
 "metadata": {
  "kernelspec": {
   "display_name": "Python 3",
   "language": "python",
   "name": "python3"
  },
  "language_info": {
   "codemirror_mode": {
    "name": "ipython",
    "version": 3
   },
   "file_extension": ".py",
   "mimetype": "text/x-python",
   "name": "python",
   "nbconvert_exporter": "python",
   "pygments_lexer": "ipython3",
   "version": "3.7.3"
  }
 },
 "nbformat": 4,
 "nbformat_minor": 2
}
